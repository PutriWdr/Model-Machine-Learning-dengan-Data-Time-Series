{
  "nbformat": 4,
  "nbformat_minor": 0,
  "metadata": {
    "colab": {
      "provenance": [],
      "collapsed_sections": []
    },
    "kernelspec": {
      "name": "python3",
      "display_name": "Python 3"
    },
    "language_info": {
      "name": "python"
    }
  },
  "cells": [
    {
      "cell_type": "code",
      "execution_count": 6,
      "metadata": {
        "id": "02ndBZfHOSLG"
      },
      "outputs": [],
      "source": [
        "# install kagglee\n",
        "!pip install -q kaggle"
      ]
    },
    {
      "cell_type": "markdown",
      "source": [
        "Nama: Putri Wulandari\n",
        "\n",
        "Kelas: Machine Learning dan Front End\n",
        "\n",
        "Proyek Kedua : Membuat Model Machine Learning dengan Data Time Series"
      ],
      "metadata": {
        "id": "OxagxMLUS5On"
      }
    },
    {
      "cell_type": "code",
      "source": [
        "# uploaddd kaggle.json\n",
        "from google.colab import files\n",
        "files.upload()"
      ],
      "metadata": {
        "colab": {
          "resources": {
            "http://localhost:8080/nbextensions/google.colab/files.js": {
              "data": "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",
              "ok": true,
              "headers": [
                [
                  "content-type",
                  "application/javascript"
                ]
              ],
              "status": 200,
              "status_text": ""
            }
          },
          "base_uri": "https://localhost:8080/",
          "height": 93
        },
        "id": "vZgxY7UITQXj",
        "outputId": "2325cf8a-c5cf-4725-fd09-49f816146b02"
      },
      "execution_count": 7,
      "outputs": [
        {
          "output_type": "display_data",
          "data": {
            "text/plain": [
              "<IPython.core.display.HTML object>"
            ],
            "text/html": [
              "\n",
              "     <input type=\"file\" id=\"files-6c945b5d-c4d0-4e46-98a7-03deb41999a7\" name=\"files[]\" multiple disabled\n",
              "        style=\"border:none\" />\n",
              "     <output id=\"result-6c945b5d-c4d0-4e46-98a7-03deb41999a7\">\n",
              "      Upload widget is only available when the cell has been executed in the\n",
              "      current browser session. Please rerun this cell to enable.\n",
              "      </output>\n",
              "      <script src=\"/nbextensions/google.colab/files.js\"></script> "
            ]
          },
          "metadata": {}
        },
        {
          "output_type": "stream",
          "name": "stdout",
          "text": [
            "Saving kaggle.json to kaggle.json\n"
          ]
        },
        {
          "output_type": "execute_result",
          "data": {
            "text/plain": [
              "{'kaggle.json': b'{\"username\":\"putriwulandari12345\",\"key\":\"983467ba58df84cfd8fd9df601c25432\"}'}"
            ]
          },
          "metadata": {},
          "execution_count": 7
        }
      ]
    },
    {
      "cell_type": "code",
      "source": [
        "# make directory dan change permissionnn\n",
        "!mkdir -p ~/.kaggle\n",
        "!cp kaggle.json ~/.kaggle/\n",
        "!chmod 600 ~/.kaggle/kaggle.json\n",
        "!ls ~/.kaggle"
      ],
      "metadata": {
        "colab": {
          "base_uri": "https://localhost:8080/"
        },
        "id": "wVWeflfdTmKF",
        "outputId": "1cb55dfa-afd9-4d28-c627-170955ae7423"
      },
      "execution_count": 8,
      "outputs": [
        {
          "output_type": "stream",
          "name": "stdout",
          "text": [
            "kaggle.json\n"
          ]
        }
      ]
    },
    {
      "cell_type": "code",
      "source": [
        "# download dataset,\n",
        "!kaggle datasets download -d meetnagadia/apple-stock-price-from-19802021"
      ],
      "metadata": {
        "colab": {
          "base_uri": "https://localhost:8080/"
        },
        "id": "dlv2CdpXTpKp",
        "outputId": "48788904-87f9-4335-c098-b6355853b967"
      },
      "execution_count": 9,
      "outputs": [
        {
          "output_type": "stream",
          "name": "stdout",
          "text": [
            "Downloading apple-stock-price-from-19802021.zip to /content\n",
            "\r  0% 0.00/206k [00:00<?, ?B/s]\n",
            "\r100% 206k/206k [00:00<00:00, 72.1MB/s]\n"
          ]
        }
      ]
    },
    {
      "cell_type": "code",
      "source": [
        "from zipfile import ZipFile\n",
        "file_name = \"/content/apple-stock-price-from-19802021.zip\"\n",
        "\n",
        "with ZipFile(file_name,'r') as zip:\n",
        "  zip.extractall()\n",
        "  print(\"done\")"
      ],
      "metadata": {
        "colab": {
          "base_uri": "https://localhost:8080/"
        },
        "id": "d5KGVrnVTvBP",
        "outputId": "9b374c47-e473-4c5a-e86e-803465fa8cd5"
      },
      "execution_count": 10,
      "outputs": [
        {
          "output_type": "stream",
          "name": "stdout",
          "text": [
            "done\n"
          ]
        }
      ]
    },
    {
      "cell_type": "code",
      "source": [
        "import numpy as np\n",
        "import pandas as pd\n",
        "from keras.layers import Dense, LSTM\n",
        "import matplotlib.pyplot as plt\n",
        "import tensorflow as tf"
      ],
      "metadata": {
        "id": "G3rBa1jbT04s"
      },
      "execution_count": 11,
      "outputs": []
    },
    {
      "cell_type": "code",
      "source": [
        "data_trainn = pd.read_csv('/content/AAPL.csv')\n",
        "data_trainn.head()"
      ],
      "metadata": {
        "colab": {
          "base_uri": "https://localhost:8080/",
          "height": 206
        },
        "id": "J1ykgvDwT6xi",
        "outputId": "7d7156c7-a97f-430c-b8e8-d07a92712122"
      },
      "execution_count": 12,
      "outputs": [
        {
          "output_type": "execute_result",
          "data": {
            "text/plain": [
              "         Date      Open      High       Low     Close  Adj Close     Volume\n",
              "0  1980-12-12  0.128348  0.128906  0.128348  0.128348   0.100178  469033600\n",
              "1  1980-12-15  0.122210  0.122210  0.121652  0.121652   0.094952  175884800\n",
              "2  1980-12-16  0.113281  0.113281  0.112723  0.112723   0.087983  105728000\n",
              "3  1980-12-17  0.115513  0.116071  0.115513  0.115513   0.090160   86441600\n",
              "4  1980-12-18  0.118862  0.119420  0.118862  0.118862   0.092774   73449600"
            ],
            "text/html": [
              "\n",
              "  <div id=\"df-2c797b98-5248-42c3-9822-ab00880ad256\">\n",
              "    <div class=\"colab-df-container\">\n",
              "      <div>\n",
              "<style scoped>\n",
              "    .dataframe tbody tr th:only-of-type {\n",
              "        vertical-align: middle;\n",
              "    }\n",
              "\n",
              "    .dataframe tbody tr th {\n",
              "        vertical-align: top;\n",
              "    }\n",
              "\n",
              "    .dataframe thead th {\n",
              "        text-align: right;\n",
              "    }\n",
              "</style>\n",
              "<table border=\"1\" class=\"dataframe\">\n",
              "  <thead>\n",
              "    <tr style=\"text-align: right;\">\n",
              "      <th></th>\n",
              "      <th>Date</th>\n",
              "      <th>Open</th>\n",
              "      <th>High</th>\n",
              "      <th>Low</th>\n",
              "      <th>Close</th>\n",
              "      <th>Adj Close</th>\n",
              "      <th>Volume</th>\n",
              "    </tr>\n",
              "  </thead>\n",
              "  <tbody>\n",
              "    <tr>\n",
              "      <th>0</th>\n",
              "      <td>1980-12-12</td>\n",
              "      <td>0.128348</td>\n",
              "      <td>0.128906</td>\n",
              "      <td>0.128348</td>\n",
              "      <td>0.128348</td>\n",
              "      <td>0.100178</td>\n",
              "      <td>469033600</td>\n",
              "    </tr>\n",
              "    <tr>\n",
              "      <th>1</th>\n",
              "      <td>1980-12-15</td>\n",
              "      <td>0.122210</td>\n",
              "      <td>0.122210</td>\n",
              "      <td>0.121652</td>\n",
              "      <td>0.121652</td>\n",
              "      <td>0.094952</td>\n",
              "      <td>175884800</td>\n",
              "    </tr>\n",
              "    <tr>\n",
              "      <th>2</th>\n",
              "      <td>1980-12-16</td>\n",
              "      <td>0.113281</td>\n",
              "      <td>0.113281</td>\n",
              "      <td>0.112723</td>\n",
              "      <td>0.112723</td>\n",
              "      <td>0.087983</td>\n",
              "      <td>105728000</td>\n",
              "    </tr>\n",
              "    <tr>\n",
              "      <th>3</th>\n",
              "      <td>1980-12-17</td>\n",
              "      <td>0.115513</td>\n",
              "      <td>0.116071</td>\n",
              "      <td>0.115513</td>\n",
              "      <td>0.115513</td>\n",
              "      <td>0.090160</td>\n",
              "      <td>86441600</td>\n",
              "    </tr>\n",
              "    <tr>\n",
              "      <th>4</th>\n",
              "      <td>1980-12-18</td>\n",
              "      <td>0.118862</td>\n",
              "      <td>0.119420</td>\n",
              "      <td>0.118862</td>\n",
              "      <td>0.118862</td>\n",
              "      <td>0.092774</td>\n",
              "      <td>73449600</td>\n",
              "    </tr>\n",
              "  </tbody>\n",
              "</table>\n",
              "</div>\n",
              "      <button class=\"colab-df-convert\" onclick=\"convertToInteractive('df-2c797b98-5248-42c3-9822-ab00880ad256')\"\n",
              "              title=\"Convert this dataframe to an interactive table.\"\n",
              "              style=\"display:none;\">\n",
              "        \n",
              "  <svg xmlns=\"http://www.w3.org/2000/svg\" height=\"24px\"viewBox=\"0 0 24 24\"\n",
              "       width=\"24px\">\n",
              "    <path d=\"M0 0h24v24H0V0z\" fill=\"none\"/>\n",
              "    <path d=\"M18.56 5.44l.94 2.06.94-2.06 2.06-.94-2.06-.94-.94-2.06-.94 2.06-2.06.94zm-11 1L8.5 8.5l.94-2.06 2.06-.94-2.06-.94L8.5 2.5l-.94 2.06-2.06.94zm10 10l.94 2.06.94-2.06 2.06-.94-2.06-.94-.94-2.06-.94 2.06-2.06.94z\"/><path d=\"M17.41 7.96l-1.37-1.37c-.4-.4-.92-.59-1.43-.59-.52 0-1.04.2-1.43.59L10.3 9.45l-7.72 7.72c-.78.78-.78 2.05 0 2.83L4 21.41c.39.39.9.59 1.41.59.51 0 1.02-.2 1.41-.59l7.78-7.78 2.81-2.81c.8-.78.8-2.07 0-2.86zM5.41 20L4 18.59l7.72-7.72 1.47 1.35L5.41 20z\"/>\n",
              "  </svg>\n",
              "      </button>\n",
              "      \n",
              "  <style>\n",
              "    .colab-df-container {\n",
              "      display:flex;\n",
              "      flex-wrap:wrap;\n",
              "      gap: 12px;\n",
              "    }\n",
              "\n",
              "    .colab-df-convert {\n",
              "      background-color: #E8F0FE;\n",
              "      border: none;\n",
              "      border-radius: 50%;\n",
              "      cursor: pointer;\n",
              "      display: none;\n",
              "      fill: #1967D2;\n",
              "      height: 32px;\n",
              "      padding: 0 0 0 0;\n",
              "      width: 32px;\n",
              "    }\n",
              "\n",
              "    .colab-df-convert:hover {\n",
              "      background-color: #E2EBFA;\n",
              "      box-shadow: 0px 1px 2px rgba(60, 64, 67, 0.3), 0px 1px 3px 1px rgba(60, 64, 67, 0.15);\n",
              "      fill: #174EA6;\n",
              "    }\n",
              "\n",
              "    [theme=dark] .colab-df-convert {\n",
              "      background-color: #3B4455;\n",
              "      fill: #D2E3FC;\n",
              "    }\n",
              "\n",
              "    [theme=dark] .colab-df-convert:hover {\n",
              "      background-color: #434B5C;\n",
              "      box-shadow: 0px 1px 3px 1px rgba(0, 0, 0, 0.15);\n",
              "      filter: drop-shadow(0px 1px 2px rgba(0, 0, 0, 0.3));\n",
              "      fill: #FFFFFF;\n",
              "    }\n",
              "  </style>\n",
              "\n",
              "      <script>\n",
              "        const buttonEl =\n",
              "          document.querySelector('#df-2c797b98-5248-42c3-9822-ab00880ad256 button.colab-df-convert');\n",
              "        buttonEl.style.display =\n",
              "          google.colab.kernel.accessAllowed ? 'block' : 'none';\n",
              "\n",
              "        async function convertToInteractive(key) {\n",
              "          const element = document.querySelector('#df-2c797b98-5248-42c3-9822-ab00880ad256');\n",
              "          const dataTable =\n",
              "            await google.colab.kernel.invokeFunction('convertToInteractive',\n",
              "                                                     [key], {});\n",
              "          if (!dataTable) return;\n",
              "\n",
              "          const docLinkHtml = 'Like what you see? Visit the ' +\n",
              "            '<a target=\"_blank\" href=https://colab.research.google.com/notebooks/data_table.ipynb>data table notebook</a>'\n",
              "            + ' to learn more about interactive tables.';\n",
              "          element.innerHTML = '';\n",
              "          dataTable['output_type'] = 'display_data';\n",
              "          await google.colab.output.renderOutput(dataTable, element);\n",
              "          const docLink = document.createElement('div');\n",
              "          docLink.innerHTML = docLinkHtml;\n",
              "          element.appendChild(docLink);\n",
              "        }\n",
              "      </script>\n",
              "    </div>\n",
              "  </div>\n",
              "  "
            ]
          },
          "metadata": {},
          "execution_count": 12
        }
      ]
    },
    {
      "cell_type": "code",
      "source": [
        "# data info\n",
        "data_trainn.info()"
      ],
      "metadata": {
        "colab": {
          "base_uri": "https://localhost:8080/"
        },
        "id": "yYSv1tTwfN84",
        "outputId": "b2cb0885-428a-4864-fbb2-aef9c3ae6444"
      },
      "execution_count": 13,
      "outputs": [
        {
          "output_type": "stream",
          "name": "stdout",
          "text": [
            "<class 'pandas.core.frame.DataFrame'>\n",
            "RangeIndex: 10468 entries, 0 to 10467\n",
            "Data columns (total 7 columns):\n",
            " #   Column     Non-Null Count  Dtype  \n",
            "---  ------     --------------  -----  \n",
            " 0   Date       10468 non-null  object \n",
            " 1   Open       10468 non-null  float64\n",
            " 2   High       10468 non-null  float64\n",
            " 3   Low        10468 non-null  float64\n",
            " 4   Close      10468 non-null  float64\n",
            " 5   Adj Close  10468 non-null  float64\n",
            " 6   Volume     10468 non-null  int64  \n",
            "dtypes: float64(5), int64(1), object(1)\n",
            "memory usage: 572.6+ KB\n"
          ]
        }
      ]
    },
    {
      "cell_type": "code",
      "source": [
        "data_trainn.isnull().sum()"
      ],
      "metadata": {
        "colab": {
          "base_uri": "https://localhost:8080/"
        },
        "id": "4vxCdREdUBu4",
        "outputId": "510ded50-18ab-48ee-c6e3-c39c510e4193"
      },
      "execution_count": 14,
      "outputs": [
        {
          "output_type": "execute_result",
          "data": {
            "text/plain": [
              "Date         0\n",
              "Open         0\n",
              "High         0\n",
              "Low          0\n",
              "Close        0\n",
              "Adj Close    0\n",
              "Volume       0\n",
              "dtype: int64"
            ]
          },
          "metadata": {},
          "execution_count": 14
        }
      ]
    },
    {
      "cell_type": "code",
      "source": [
        "data_trainn.isnull()\n"
      ],
      "metadata": {
        "colab": {
          "base_uri": "https://localhost:8080/",
          "height": 423
        },
        "id": "mmFlx_d4UOMe",
        "outputId": "71478be9-5d27-4a46-cceb-008fd6ec9d31"
      },
      "execution_count": 15,
      "outputs": [
        {
          "output_type": "execute_result",
          "data": {
            "text/plain": [
              "        Date   Open   High    Low  Close  Adj Close  Volume\n",
              "0      False  False  False  False  False      False   False\n",
              "1      False  False  False  False  False      False   False\n",
              "2      False  False  False  False  False      False   False\n",
              "3      False  False  False  False  False      False   False\n",
              "4      False  False  False  False  False      False   False\n",
              "...      ...    ...    ...    ...    ...        ...     ...\n",
              "10463  False  False  False  False  False      False   False\n",
              "10464  False  False  False  False  False      False   False\n",
              "10465  False  False  False  False  False      False   False\n",
              "10466  False  False  False  False  False      False   False\n",
              "10467  False  False  False  False  False      False   False\n",
              "\n",
              "[10468 rows x 7 columns]"
            ],
            "text/html": [
              "\n",
              "  <div id=\"df-e88579f7-ed46-4442-9e4e-eeccf6948078\">\n",
              "    <div class=\"colab-df-container\">\n",
              "      <div>\n",
              "<style scoped>\n",
              "    .dataframe tbody tr th:only-of-type {\n",
              "        vertical-align: middle;\n",
              "    }\n",
              "\n",
              "    .dataframe tbody tr th {\n",
              "        vertical-align: top;\n",
              "    }\n",
              "\n",
              "    .dataframe thead th {\n",
              "        text-align: right;\n",
              "    }\n",
              "</style>\n",
              "<table border=\"1\" class=\"dataframe\">\n",
              "  <thead>\n",
              "    <tr style=\"text-align: right;\">\n",
              "      <th></th>\n",
              "      <th>Date</th>\n",
              "      <th>Open</th>\n",
              "      <th>High</th>\n",
              "      <th>Low</th>\n",
              "      <th>Close</th>\n",
              "      <th>Adj Close</th>\n",
              "      <th>Volume</th>\n",
              "    </tr>\n",
              "  </thead>\n",
              "  <tbody>\n",
              "    <tr>\n",
              "      <th>0</th>\n",
              "      <td>False</td>\n",
              "      <td>False</td>\n",
              "      <td>False</td>\n",
              "      <td>False</td>\n",
              "      <td>False</td>\n",
              "      <td>False</td>\n",
              "      <td>False</td>\n",
              "    </tr>\n",
              "    <tr>\n",
              "      <th>1</th>\n",
              "      <td>False</td>\n",
              "      <td>False</td>\n",
              "      <td>False</td>\n",
              "      <td>False</td>\n",
              "      <td>False</td>\n",
              "      <td>False</td>\n",
              "      <td>False</td>\n",
              "    </tr>\n",
              "    <tr>\n",
              "      <th>2</th>\n",
              "      <td>False</td>\n",
              "      <td>False</td>\n",
              "      <td>False</td>\n",
              "      <td>False</td>\n",
              "      <td>False</td>\n",
              "      <td>False</td>\n",
              "      <td>False</td>\n",
              "    </tr>\n",
              "    <tr>\n",
              "      <th>3</th>\n",
              "      <td>False</td>\n",
              "      <td>False</td>\n",
              "      <td>False</td>\n",
              "      <td>False</td>\n",
              "      <td>False</td>\n",
              "      <td>False</td>\n",
              "      <td>False</td>\n",
              "    </tr>\n",
              "    <tr>\n",
              "      <th>4</th>\n",
              "      <td>False</td>\n",
              "      <td>False</td>\n",
              "      <td>False</td>\n",
              "      <td>False</td>\n",
              "      <td>False</td>\n",
              "      <td>False</td>\n",
              "      <td>False</td>\n",
              "    </tr>\n",
              "    <tr>\n",
              "      <th>...</th>\n",
              "      <td>...</td>\n",
              "      <td>...</td>\n",
              "      <td>...</td>\n",
              "      <td>...</td>\n",
              "      <td>...</td>\n",
              "      <td>...</td>\n",
              "      <td>...</td>\n",
              "    </tr>\n",
              "    <tr>\n",
              "      <th>10463</th>\n",
              "      <td>False</td>\n",
              "      <td>False</td>\n",
              "      <td>False</td>\n",
              "      <td>False</td>\n",
              "      <td>False</td>\n",
              "      <td>False</td>\n",
              "      <td>False</td>\n",
              "    </tr>\n",
              "    <tr>\n",
              "      <th>10464</th>\n",
              "      <td>False</td>\n",
              "      <td>False</td>\n",
              "      <td>False</td>\n",
              "      <td>False</td>\n",
              "      <td>False</td>\n",
              "      <td>False</td>\n",
              "      <td>False</td>\n",
              "    </tr>\n",
              "    <tr>\n",
              "      <th>10465</th>\n",
              "      <td>False</td>\n",
              "      <td>False</td>\n",
              "      <td>False</td>\n",
              "      <td>False</td>\n",
              "      <td>False</td>\n",
              "      <td>False</td>\n",
              "      <td>False</td>\n",
              "    </tr>\n",
              "    <tr>\n",
              "      <th>10466</th>\n",
              "      <td>False</td>\n",
              "      <td>False</td>\n",
              "      <td>False</td>\n",
              "      <td>False</td>\n",
              "      <td>False</td>\n",
              "      <td>False</td>\n",
              "      <td>False</td>\n",
              "    </tr>\n",
              "    <tr>\n",
              "      <th>10467</th>\n",
              "      <td>False</td>\n",
              "      <td>False</td>\n",
              "      <td>False</td>\n",
              "      <td>False</td>\n",
              "      <td>False</td>\n",
              "      <td>False</td>\n",
              "      <td>False</td>\n",
              "    </tr>\n",
              "  </tbody>\n",
              "</table>\n",
              "<p>10468 rows × 7 columns</p>\n",
              "</div>\n",
              "      <button class=\"colab-df-convert\" onclick=\"convertToInteractive('df-e88579f7-ed46-4442-9e4e-eeccf6948078')\"\n",
              "              title=\"Convert this dataframe to an interactive table.\"\n",
              "              style=\"display:none;\">\n",
              "        \n",
              "  <svg xmlns=\"http://www.w3.org/2000/svg\" height=\"24px\"viewBox=\"0 0 24 24\"\n",
              "       width=\"24px\">\n",
              "    <path d=\"M0 0h24v24H0V0z\" fill=\"none\"/>\n",
              "    <path d=\"M18.56 5.44l.94 2.06.94-2.06 2.06-.94-2.06-.94-.94-2.06-.94 2.06-2.06.94zm-11 1L8.5 8.5l.94-2.06 2.06-.94-2.06-.94L8.5 2.5l-.94 2.06-2.06.94zm10 10l.94 2.06.94-2.06 2.06-.94-2.06-.94-.94-2.06-.94 2.06-2.06.94z\"/><path d=\"M17.41 7.96l-1.37-1.37c-.4-.4-.92-.59-1.43-.59-.52 0-1.04.2-1.43.59L10.3 9.45l-7.72 7.72c-.78.78-.78 2.05 0 2.83L4 21.41c.39.39.9.59 1.41.59.51 0 1.02-.2 1.41-.59l7.78-7.78 2.81-2.81c.8-.78.8-2.07 0-2.86zM5.41 20L4 18.59l7.72-7.72 1.47 1.35L5.41 20z\"/>\n",
              "  </svg>\n",
              "      </button>\n",
              "      \n",
              "  <style>\n",
              "    .colab-df-container {\n",
              "      display:flex;\n",
              "      flex-wrap:wrap;\n",
              "      gap: 12px;\n",
              "    }\n",
              "\n",
              "    .colab-df-convert {\n",
              "      background-color: #E8F0FE;\n",
              "      border: none;\n",
              "      border-radius: 50%;\n",
              "      cursor: pointer;\n",
              "      display: none;\n",
              "      fill: #1967D2;\n",
              "      height: 32px;\n",
              "      padding: 0 0 0 0;\n",
              "      width: 32px;\n",
              "    }\n",
              "\n",
              "    .colab-df-convert:hover {\n",
              "      background-color: #E2EBFA;\n",
              "      box-shadow: 0px 1px 2px rgba(60, 64, 67, 0.3), 0px 1px 3px 1px rgba(60, 64, 67, 0.15);\n",
              "      fill: #174EA6;\n",
              "    }\n",
              "\n",
              "    [theme=dark] .colab-df-convert {\n",
              "      background-color: #3B4455;\n",
              "      fill: #D2E3FC;\n",
              "    }\n",
              "\n",
              "    [theme=dark] .colab-df-convert:hover {\n",
              "      background-color: #434B5C;\n",
              "      box-shadow: 0px 1px 3px 1px rgba(0, 0, 0, 0.15);\n",
              "      filter: drop-shadow(0px 1px 2px rgba(0, 0, 0, 0.3));\n",
              "      fill: #FFFFFF;\n",
              "    }\n",
              "  </style>\n",
              "\n",
              "      <script>\n",
              "        const buttonEl =\n",
              "          document.querySelector('#df-e88579f7-ed46-4442-9e4e-eeccf6948078 button.colab-df-convert');\n",
              "        buttonEl.style.display =\n",
              "          google.colab.kernel.accessAllowed ? 'block' : 'none';\n",
              "\n",
              "        async function convertToInteractive(key) {\n",
              "          const element = document.querySelector('#df-e88579f7-ed46-4442-9e4e-eeccf6948078');\n",
              "          const dataTable =\n",
              "            await google.colab.kernel.invokeFunction('convertToInteractive',\n",
              "                                                     [key], {});\n",
              "          if (!dataTable) return;\n",
              "\n",
              "          const docLinkHtml = 'Like what you see? Visit the ' +\n",
              "            '<a target=\"_blank\" href=https://colab.research.google.com/notebooks/data_table.ipynb>data table notebook</a>'\n",
              "            + ' to learn more about interactive tables.';\n",
              "          element.innerHTML = '';\n",
              "          dataTable['output_type'] = 'display_data';\n",
              "          await google.colab.output.renderOutput(dataTable, element);\n",
              "          const docLink = document.createElement('div');\n",
              "          docLink.innerHTML = docLinkHtml;\n",
              "          element.appendChild(docLink);\n",
              "        }\n",
              "      </script>\n",
              "    </div>\n",
              "  </div>\n",
              "  "
            ]
          },
          "metadata": {},
          "execution_count": 15
        }
      ]
    },
    {
      "cell_type": "code",
      "source": [
        "date = data_trainn['Date'].values\n",
        "category  = data_trainn['Open'].values\n",
        " \n",
        " \n",
        "plt.figure(figsize=(15,5))\n",
        "plt.plot(date, category)\n",
        "plt.title('Temperature average',\n",
        "          fontsize=20);"
      ],
      "metadata": {
        "colab": {
          "base_uri": "https://localhost:8080/",
          "height": 341
        },
        "id": "WmGnnSA7UXvv",
        "outputId": "8313388c-cfba-4eb0-d1f5-2f7cf0f46011"
      },
      "execution_count": 16,
      "outputs": [
        {
          "output_type": "display_data",
          "data": {
            "text/plain": [
              "<Figure size 1080x360 with 1 Axes>"
            ],
            "image/png": "[encoded data removed]"
          },
          "metadata": {
            "needs_background": "light"
          }
        }
      ]
    },
    {
      "cell_type": "code",
      "source": [
        "date = data_trainn['Date'].values\n",
        "category  = data_trainn['Open'].values"
      ],
      "metadata": {
        "id": "qw3xZx3qUa7i"
      },
      "execution_count": 17,
      "outputs": []
    },
    {
      "cell_type": "code",
      "source": [
        "import matplotlib.pyplot as plt\n",
        "\n",
        "plt.figure(figsize=(20,8))\n",
        "plt.plot(date, category)\n",
        "plt.title('Stock Apple')\n",
        "plt.xlabel('Date')\n",
        "plt.ylabel('category')\n",
        "plt.show()"
      ],
      "metadata": {
        "colab": {
          "base_uri": "https://localhost:8080/",
          "height": 482
        },
        "id": "ZwXCpd8vVH88",
        "outputId": "0d0f6830-d0b8-4c13-b521-0441013fd1a7"
      },
      "execution_count": 18,
      "outputs": [
        {
          "output_type": "display_data",
          "data": {
            "text/plain": [
              "<Figure size 1440x576 with 1 Axes>"
            ],
            "image/png": "[encoded data removed]"
          },
          "metadata": {
            "needs_background": "light"
          }
        }
      ]
    },
    {
      "cell_type": "code",
      "source": [
        "def windowed_dataset(series, window_size, batch_size, shuffle_buffer):\n",
        "  \n",
        "    series = tf.expand_dims(series, axis=-1)\n",
        "    dt = tf.data.Dataset.from_tensor_slices(series)\n",
        "    dt = dt.window(window_size + 1, shift=1, drop_remainder=True)\n",
        "    dt = dt.flat_map(lambda w: w.batch(window_size + 1))\n",
        "    dt = dt.shuffle(shuffle_buffer)\n",
        "    dt = dt.map(lambda w: (w[:-1], w[-1:]))\n",
        "    return dt.batch(batch_size).prefetch(1)"
      ],
      "metadata": {
        "id": "r1eTryjSVLMQ"
      },
      "execution_count": 19,
      "outputs": []
    },
    {
      "cell_type": "code",
      "source": [
        "from sklearn.model_selection import train_test_split\n",
        "\n",
        "x_train, x_test, y_train, y_test = train_test_split(category, date, test_size = 0.2, random_state = 0 , shuffle=False)\n",
        "print(len(x_train), len(x_test))"
      ],
      "metadata": {
        "colab": {
          "base_uri": "https://localhost:8080/"
        },
        "id": "QO60qCFcVVSu",
        "outputId": "12df9992-c893-47ea-d559-a230ddf03841"
      },
      "execution_count": 20,
      "outputs": [
        {
          "output_type": "stream",
          "name": "stdout",
          "text": [
            "8374 2094\n"
          ]
        }
      ]
    },
    {
      "cell_type": "code",
      "source": [
        "#MODEL\n",
        "\n",
        "from keras.layers import Dense, LSTM\n",
        "\n",
        "train_set = windowed_dataset(x_train, window_size=60, batch_size=100, shuffle_buffer=5000)\n",
        "test_set = windowed_dataset(x_test, window_size=60, batch_size=100, shuffle_buffer=5000)\n",
        "\n",
        "model = tf.keras.models.Sequential([\n",
        "  tf.keras.layers.Conv1D(filters=32, kernel_size=5,\n",
        "                      strides=1, padding=\"causal\",\n",
        "                      activation=\"relu\",\n",
        "                      input_shape=[None, 1]),\n",
        "  tf.keras.layers.LSTM(64, return_sequences=True),\n",
        "  tf.keras.layers.LSTM(64, return_sequences=True),\n",
        "  tf.keras.layers.Dense(30, activation=\"relu\"),\n",
        "  tf.keras.layers.Dense(10, activation=\"relu\"),\n",
        "  tf.keras.layers.Dense(1),\n",
        "  tf.keras.layers.Lambda(lambda x: x * 400)\n",
        "])\n",
        "\n",
        "lr_schedule = tf.keras.callbacks.LearningRateScheduler(\n",
        "    lambda epoch: 1e-8 * 10**(epoch / 20))\n",
        "optimizer = tf.keras.optimizers.SGD(lr=1e-8, momentum=0.9)\n",
        "model.compile(loss=tf.keras.losses.Huber(),\n",
        "              optimizer=optimizer,\n",
        "              metrics=[\"mae\"])"
      ],
      "metadata": {
        "colab": {
          "base_uri": "https://localhost:8080/"
        },
        "id": "djcFq8gJY1y1",
        "outputId": "6fb24436-f46e-4c9a-b145-ea0373c1265e"
      },
      "execution_count": 21,
      "outputs": [
        {
          "output_type": "stream",
          "name": "stderr",
          "text": [
            "/usr/local/lib/python3.7/dist-packages/keras/optimizer_v2/gradient_descent.py:102: UserWarning: The `lr` argument is deprecated, use `learning_rate` instead.\n",
            "  super(SGD, self).__init__(name, **kwargs)\n"
          ]
        }
      ]
    },
    {
      "cell_type": "code",
      "source": [
        "max = data_trainn['Open'].max()\n",
        "print('Max value : ' )\n",
        "print(max)"
      ],
      "metadata": {
        "colab": {
          "base_uri": "https://localhost:8080/"
        },
        "id": "Y5Fy9y8GWJwi",
        "outputId": "aef121bd-adc0-44fd-a637-b2dfffb6d0a3"
      },
      "execution_count": 22,
      "outputs": [
        {
          "output_type": "stream",
          "name": "stdout",
          "text": [
            "Max value : \n",
            "182.630005\n"
          ]
        }
      ]
    },
    {
      "cell_type": "code",
      "source": [
        "min = data_trainn['Open'].min()\n",
        "print('Min Value : ')\n",
        "print(min)"
      ],
      "metadata": {
        "colab": {
          "base_uri": "https://localhost:8080/"
        },
        "id": "XNxJGNM5WL7_",
        "outputId": "5ff2522f-234c-45dd-8dcc-69cadfb586e3"
      },
      "execution_count": 23,
      "outputs": [
        {
          "output_type": "stream",
          "name": "stdout",
          "text": [
            "Min Value : \n",
            "0.049665\n"
          ]
        }
      ]
    },
    {
      "cell_type": "code",
      "source": [
        "x = (182.630005 - 0.049665 ) * (10 / 100)\n",
        "print(x)"
      ],
      "metadata": {
        "colab": {
          "base_uri": "https://localhost:8080/"
        },
        "id": "pMyXEtMkXK0k",
        "outputId": "ff43f92c-558b-4142-8948-976b09877acb"
      },
      "execution_count": 90,
      "outputs": [
        {
          "output_type": "stream",
          "name": "stdout",
          "text": [
            "18.258034000000002\n"
          ]
        }
      ]
    },
    {
      "cell_type": "code",
      "source": [
        "# CALLBACK\n",
        "class myCallback(tf.keras.callbacks.Callback):\n",
        "  def on_epoch_end(self, epoch, logs={}):\n",
        "    if(logs.get('mae')< x):\n",
        "      self.model.stop_training = True\n",
        "      print(\"\\nMAE of the model < 10% of data scale\")\n",
        "callbacks = myCallback()"
      ],
      "metadata": {
        "id": "czKqbtq7XduW"
      },
      "execution_count": 24,
      "outputs": []
    },
    {
      "cell_type": "code",
      "source": [
        "history = model.fit(train_set,epochs=80,validation_data=test_set)"
      ],
      "metadata": {
        "colab": {
          "base_uri": "https://localhost:8080/"
        },
        "id": "-Ds8WwQQX3So",
        "outputId": "f8b4df2f-f4c6-4688-863d-841ea246b3bd"
      },
      "execution_count": 25,
      "outputs": [
        {
          "output_type": "stream",
          "name": "stdout",
          "text": [
            "Epoch 1/80\n",
            "84/84 [==============================] - 27s 256ms/step - loss: 11.4450 - mae: 11.8877 - val_loss: 93.1799 - val_mae: 93.6799\n",
            "Epoch 2/80\n",
            "84/84 [==============================] - 13s 149ms/step - loss: 10.2735 - mae: 10.7036 - val_loss: 90.5969 - val_mae: 91.0969\n",
            "Epoch 3/80\n",
            "84/84 [==============================] - 13s 148ms/step - loss: 9.6437 - mae: 10.0794 - val_loss: 88.4750 - val_mae: 88.9750\n",
            "Epoch 4/80\n",
            "84/84 [==============================] - 15s 173ms/step - loss: 9.0255 - mae: 9.4599 - val_loss: 86.5346 - val_mae: 87.0346\n",
            "Epoch 5/80\n",
            "84/84 [==============================] - 13s 145ms/step - loss: 8.4158 - mae: 8.8477 - val_loss: 84.7556 - val_mae: 85.2555\n",
            "Epoch 6/80\n",
            "84/84 [==============================] - 13s 148ms/step - loss: 7.8194 - mae: 8.2454 - val_loss: 83.1321 - val_mae: 83.6321\n",
            "Epoch 7/80\n",
            "84/84 [==============================] - 16s 178ms/step - loss: 7.2375 - mae: 7.6617 - val_loss: 81.6642 - val_mae: 82.1642\n",
            "Epoch 8/80\n",
            "84/84 [==============================] - 13s 150ms/step - loss: 6.6662 - mae: 7.0903 - val_loss: 80.2508 - val_mae: 80.7508\n",
            "Epoch 9/80\n",
            "84/84 [==============================] - 13s 150ms/step - loss: 6.1229 - mae: 6.5375 - val_loss: 78.9948 - val_mae: 79.4948\n",
            "Epoch 10/80\n",
            "84/84 [==============================] - 14s 158ms/step - loss: 5.6139 - mae: 6.0172 - val_loss: 77.8204 - val_mae: 78.3204\n",
            "Epoch 11/80\n",
            "84/84 [==============================] - 13s 150ms/step - loss: 5.1362 - mae: 5.5245 - val_loss: 76.6991 - val_mae: 77.1991\n",
            "Epoch 12/80\n",
            "84/84 [==============================] - 13s 150ms/step - loss: 4.6902 - mae: 5.0709 - val_loss: 75.6612 - val_mae: 76.1612\n",
            "Epoch 13/80\n",
            "84/84 [==============================] - 13s 146ms/step - loss: 4.2743 - mae: 4.6552 - val_loss: 74.6552 - val_mae: 75.1552\n",
            "Epoch 14/80\n",
            "84/84 [==============================] - 13s 147ms/step - loss: 3.8910 - mae: 4.2771 - val_loss: 73.7290 - val_mae: 74.2290\n",
            "Epoch 15/80\n",
            "84/84 [==============================] - 13s 150ms/step - loss: 3.5419 - mae: 3.9347 - val_loss: 72.8479 - val_mae: 73.3479\n",
            "Epoch 16/80\n",
            "84/84 [==============================] - 13s 148ms/step - loss: 3.2323 - mae: 3.6300 - val_loss: 72.0618 - val_mae: 72.5618\n",
            "Epoch 17/80\n",
            "84/84 [==============================] - 13s 148ms/step - loss: 2.9606 - mae: 3.3636 - val_loss: 71.3310 - val_mae: 71.8310\n",
            "Epoch 18/80\n",
            "84/84 [==============================] - 13s 145ms/step - loss: 2.7285 - mae: 3.1362 - val_loss: 70.6418 - val_mae: 71.1418\n",
            "Epoch 19/80\n",
            "84/84 [==============================] - 13s 150ms/step - loss: 2.5199 - mae: 2.9288 - val_loss: 70.0222 - val_mae: 70.5222\n",
            "Epoch 20/80\n",
            "84/84 [==============================] - 13s 145ms/step - loss: 2.3312 - mae: 2.7407 - val_loss: 69.4142 - val_mae: 69.9142\n",
            "Epoch 21/80\n",
            "84/84 [==============================] - 14s 152ms/step - loss: 2.1669 - mae: 2.5763 - val_loss: 68.8613 - val_mae: 69.3613\n",
            "Epoch 22/80\n",
            "84/84 [==============================] - 13s 143ms/step - loss: 2.0172 - mae: 2.4250 - val_loss: 68.3404 - val_mae: 68.8404\n",
            "Epoch 23/80\n",
            "84/84 [==============================] - 13s 144ms/step - loss: 1.8800 - mae: 2.2844 - val_loss: 67.8155 - val_mae: 68.3156\n",
            "Epoch 24/80\n",
            "84/84 [==============================] - 13s 147ms/step - loss: 1.7585 - mae: 2.1594 - val_loss: 67.3388 - val_mae: 67.8388\n",
            "Epoch 25/80\n",
            "84/84 [==============================] - 13s 148ms/step - loss: 1.6494 - mae: 2.0455 - val_loss: 66.8860 - val_mae: 67.3860\n",
            "Epoch 26/80\n",
            "84/84 [==============================] - 13s 145ms/step - loss: 1.5556 - mae: 1.9459 - val_loss: 66.4478 - val_mae: 66.9478\n",
            "Epoch 27/80\n",
            "84/84 [==============================] - 13s 149ms/step - loss: 1.4773 - mae: 1.8620 - val_loss: 66.0536 - val_mae: 66.5536\n",
            "Epoch 28/80\n",
            "84/84 [==============================] - 13s 149ms/step - loss: 1.4143 - mae: 1.7922 - val_loss: 65.7009 - val_mae: 66.2009\n",
            "Epoch 29/80\n",
            "84/84 [==============================] - 13s 142ms/step - loss: 1.3621 - mae: 1.7336 - val_loss: 65.3705 - val_mae: 65.8705\n",
            "Epoch 30/80\n",
            "84/84 [==============================] - 13s 146ms/step - loss: 1.3187 - mae: 1.6838 - val_loss: 65.0635 - val_mae: 65.5635\n",
            "Epoch 31/80\n",
            "84/84 [==============================] - 13s 148ms/step - loss: 1.2811 - mae: 1.6400 - val_loss: 64.7546 - val_mae: 65.2546\n",
            "Epoch 32/80\n",
            "84/84 [==============================] - 13s 143ms/step - loss: 1.2479 - mae: 1.6019 - val_loss: 64.4806 - val_mae: 64.9806\n",
            "Epoch 33/80\n",
            "84/84 [==============================] - 13s 151ms/step - loss: 1.2186 - mae: 1.5672 - val_loss: 64.2243 - val_mae: 64.7243\n",
            "Epoch 34/80\n",
            "84/84 [==============================] - 13s 145ms/step - loss: 1.1921 - mae: 1.5368 - val_loss: 63.9806 - val_mae: 64.4806\n",
            "Epoch 35/80\n",
            "84/84 [==============================] - 13s 147ms/step - loss: 1.1679 - mae: 1.5081 - val_loss: 63.7375 - val_mae: 64.2376\n",
            "Epoch 36/80\n",
            "84/84 [==============================] - 13s 147ms/step - loss: 1.1458 - mae: 1.4825 - val_loss: 63.5163 - val_mae: 64.0163\n",
            "Epoch 37/80\n",
            "84/84 [==============================] - 13s 147ms/step - loss: 1.1257 - mae: 1.4587 - val_loss: 63.3006 - val_mae: 63.8006\n",
            "Epoch 38/80\n",
            "84/84 [==============================] - 13s 144ms/step - loss: 1.1066 - mae: 1.4366 - val_loss: 63.0951 - val_mae: 63.5951\n",
            "Epoch 39/80\n",
            "84/84 [==============================] - 13s 148ms/step - loss: 1.0889 - mae: 1.4164 - val_loss: 62.9043 - val_mae: 63.4043\n",
            "Epoch 40/80\n",
            "84/84 [==============================] - 13s 145ms/step - loss: 1.0725 - mae: 1.3974 - val_loss: 62.7190 - val_mae: 63.2190\n",
            "Epoch 41/80\n",
            "84/84 [==============================] - 13s 143ms/step - loss: 1.0570 - mae: 1.3792 - val_loss: 62.5270 - val_mae: 63.0270\n",
            "Epoch 42/80\n",
            "84/84 [==============================] - 13s 143ms/step - loss: 1.0423 - mae: 1.3628 - val_loss: 62.3534 - val_mae: 62.8534\n",
            "Epoch 43/80\n",
            "84/84 [==============================] - 13s 150ms/step - loss: 1.0285 - mae: 1.3469 - val_loss: 62.1941 - val_mae: 62.6941\n",
            "Epoch 44/80\n",
            "84/84 [==============================] - 13s 150ms/step - loss: 1.0156 - mae: 1.3321 - val_loss: 62.0430 - val_mae: 62.5430\n",
            "Epoch 45/80\n",
            "84/84 [==============================] - 13s 147ms/step - loss: 1.0034 - mae: 1.3179 - val_loss: 61.8882 - val_mae: 62.3882\n",
            "Epoch 46/80\n",
            "84/84 [==============================] - 13s 141ms/step - loss: 0.9919 - mae: 1.3045 - val_loss: 61.7440 - val_mae: 62.2440\n",
            "Epoch 47/80\n",
            "84/84 [==============================] - 13s 143ms/step - loss: 0.9808 - mae: 1.2918 - val_loss: 61.6080 - val_mae: 62.1080\n",
            "Epoch 48/80\n",
            "84/84 [==============================] - 13s 150ms/step - loss: 0.9704 - mae: 1.2796 - val_loss: 61.4653 - val_mae: 61.9653\n",
            "Epoch 49/80\n",
            "84/84 [==============================] - 13s 146ms/step - loss: 0.9605 - mae: 1.2680 - val_loss: 61.3334 - val_mae: 61.8334\n",
            "Epoch 50/80\n",
            "84/84 [==============================] - 13s 148ms/step - loss: 0.9512 - mae: 1.2567 - val_loss: 61.1987 - val_mae: 61.6987\n",
            "Epoch 51/80\n",
            "84/84 [==============================] - 13s 147ms/step - loss: 0.9422 - mae: 1.2460 - val_loss: 61.0808 - val_mae: 61.5808\n",
            "Epoch 52/80\n",
            "84/84 [==============================] - 13s 145ms/step - loss: 0.9336 - mae: 1.2353 - val_loss: 60.9728 - val_mae: 61.4728\n",
            "Epoch 53/80\n",
            "84/84 [==============================] - 14s 162ms/step - loss: 0.9253 - mae: 1.2250 - val_loss: 60.8592 - val_mae: 61.3592\n",
            "Epoch 54/80\n",
            "84/84 [==============================] - 13s 142ms/step - loss: 0.9171 - mae: 1.2144 - val_loss: 60.7404 - val_mae: 61.2404\n",
            "Epoch 55/80\n",
            "84/84 [==============================] - 13s 148ms/step - loss: 0.9093 - mae: 1.2043 - val_loss: 60.6306 - val_mae: 61.1306\n",
            "Epoch 56/80\n",
            "84/84 [==============================] - 13s 145ms/step - loss: 0.9018 - mae: 1.1944 - val_loss: 60.5198 - val_mae: 61.0198\n",
            "Epoch 57/80\n",
            "84/84 [==============================] - 13s 143ms/step - loss: 0.8945 - mae: 1.1848 - val_loss: 60.4180 - val_mae: 60.9180\n",
            "Epoch 58/80\n",
            "84/84 [==============================] - 13s 145ms/step - loss: 0.8874 - mae: 1.1748 - val_loss: 60.3175 - val_mae: 60.8175\n",
            "Epoch 59/80\n",
            "84/84 [==============================] - 16s 170ms/step - loss: 0.8806 - mae: 1.1656 - val_loss: 60.2241 - val_mae: 60.7241\n",
            "Epoch 60/80\n",
            "84/84 [==============================] - 13s 149ms/step - loss: 0.8739 - mae: 1.1564 - val_loss: 60.1335 - val_mae: 60.6335\n",
            "Epoch 61/80\n",
            "84/84 [==============================] - 13s 148ms/step - loss: 0.8675 - mae: 1.1475 - val_loss: 60.0448 - val_mae: 60.5448\n",
            "Epoch 62/80\n",
            "84/84 [==============================] - 13s 147ms/step - loss: 0.8611 - mae: 1.1390 - val_loss: 59.9524 - val_mae: 60.4524\n",
            "Epoch 63/80\n",
            "84/84 [==============================] - 13s 146ms/step - loss: 0.8550 - mae: 1.1307 - val_loss: 59.8657 - val_mae: 60.3657\n",
            "Epoch 64/80\n",
            "84/84 [==============================] - 14s 159ms/step - loss: 0.8491 - mae: 1.1229 - val_loss: 59.7909 - val_mae: 60.2909\n",
            "Epoch 65/80\n",
            "84/84 [==============================] - 13s 149ms/step - loss: 0.8432 - mae: 1.1150 - val_loss: 59.7044 - val_mae: 60.2044\n",
            "Epoch 66/80\n",
            "84/84 [==============================] - 13s 145ms/step - loss: 0.8375 - mae: 1.1076 - val_loss: 59.6182 - val_mae: 60.1182\n",
            "Epoch 67/80\n",
            "84/84 [==============================] - 13s 147ms/step - loss: 0.8320 - mae: 1.1005 - val_loss: 59.5439 - val_mae: 60.0439\n",
            "Epoch 68/80\n",
            "84/84 [==============================] - 13s 148ms/step - loss: 0.8265 - mae: 1.0934 - val_loss: 59.4641 - val_mae: 59.9641\n",
            "Epoch 69/80\n",
            "84/84 [==============================] - 13s 145ms/step - loss: 0.8211 - mae: 1.0864 - val_loss: 59.3852 - val_mae: 59.8852\n",
            "Epoch 70/80\n",
            "84/84 [==============================] - 13s 146ms/step - loss: 0.8160 - mae: 1.0799 - val_loss: 59.3023 - val_mae: 59.8023\n",
            "Epoch 71/80\n",
            "84/84 [==============================] - 13s 146ms/step - loss: 0.8109 - mae: 1.0732 - val_loss: 59.2323 - val_mae: 59.7323\n",
            "Epoch 72/80\n",
            "84/84 [==============================] - 13s 148ms/step - loss: 0.8059 - mae: 1.0669 - val_loss: 59.1614 - val_mae: 59.6614\n",
            "Epoch 73/80\n",
            "84/84 [==============================] - 13s 147ms/step - loss: 0.8009 - mae: 1.0605 - val_loss: 59.0879 - val_mae: 59.5879\n",
            "Epoch 74/80\n",
            "84/84 [==============================] - 13s 146ms/step - loss: 0.7962 - mae: 1.0543 - val_loss: 59.0115 - val_mae: 59.5115\n",
            "Epoch 75/80\n",
            "84/84 [==============================] - 14s 157ms/step - loss: 0.7915 - mae: 1.0484 - val_loss: 58.9484 - val_mae: 59.4484\n",
            "Epoch 76/80\n",
            "84/84 [==============================] - 13s 149ms/step - loss: 0.7869 - mae: 1.0426 - val_loss: 58.8763 - val_mae: 59.3763\n",
            "Epoch 77/80\n",
            "84/84 [==============================] - 13s 150ms/step - loss: 0.7823 - mae: 1.0365 - val_loss: 58.8069 - val_mae: 59.3069\n",
            "Epoch 78/80\n",
            "84/84 [==============================] - 13s 145ms/step - loss: 0.7778 - mae: 1.0309 - val_loss: 58.7483 - val_mae: 59.2483\n",
            "Epoch 79/80\n",
            "84/84 [==============================] - 13s 146ms/step - loss: 0.7733 - mae: 1.0251 - val_loss: 58.6754 - val_mae: 59.1754\n",
            "Epoch 80/80\n",
            "84/84 [==============================] - 13s 146ms/step - loss: 0.7691 - mae: 1.0197 - val_loss: 58.6115 - val_mae: 59.1115\n"
          ]
        }
      ]
    },
    {
      "cell_type": "code",
      "source": [
        "# plot dari MAEE\n",
        "\n",
        "import matplotlib.pyplot as plt\n",
        "plt.plot(history.history['mae'])\n",
        "plt.plot(history.history['val_mae'])\n",
        "plt.title('MAE')\n",
        "plt.ylabel('mae')\n",
        "plt.xlabel('epoch')\n",
        "plt.legend(['trainn', 'test'], loc='upper left')\n",
        "plt.show()"
      ],
      "metadata": {
        "colab": {
          "base_uri": "https://localhost:8080/",
          "height": 295
        },
        "id": "enU0K24UYIFG",
        "outputId": "1a81e9aa-9b61-49ac-c72e-48e52e00bcf8"
      },
      "execution_count": 26,
      "outputs": [
        {
          "output_type": "display_data",
          "data": {
            "text/plain": [
              "<Figure size 432x288 with 1 Axes>"
            ],
            "image/png": "[encoded data removed]"
          },
          "metadata": {
            "needs_background": "light"
          }
        }
      ]
    },
    {
      "cell_type": "code",
      "source": [
        "# plot dari LOSS\n",
        "\n",
        "plt.plot(history.history['loss'])\n",
        "plt.plot(history.history['val_loss'])\n",
        "plt.title('Model Loss')\n",
        "plt.ylabel('loss')\n",
        "plt.xlabel('epoch')\n",
        "plt.legend(['train', 'test'], loc='upper left')\n",
        "plt.show()"
      ],
      "metadata": {
        "colab": {
          "base_uri": "https://localhost:8080/",
          "height": 295
        },
        "id": "nosaumsjSkcx",
        "outputId": "1f09b349-df3b-4560-c2b9-dd668a178499"
      },
      "execution_count": 27,
      "outputs": [
        {
          "output_type": "display_data",
          "data": {
            "text/plain": [
              "<Figure size 432x288 with 1 Axes>"
            ],
            "image/png": "[encoded data removed]"
          },
          "metadata": {
            "needs_background": "light"
          }
        }
      ]
    }
  ]
}